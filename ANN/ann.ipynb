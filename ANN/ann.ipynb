{
 "cells": [
  {
   "cell_type": "code",
   "execution_count": 5,
   "metadata": {},
   "outputs": [],
   "source": [
    "import numpy as np"
   ]
  },
  {
   "cell_type": "code",
   "execution_count": 7,
   "metadata": {},
   "outputs": [],
   "source": [
    "#Weights initialization\n",
    "def initialize_parameters(layer_dims):\n",
    "    parameters = {}\n",
    "    for i in range(len(1,len(layer_dims))):\n",
    "        parameters['W' + str(i)] = np.random.randn((layer_dims[i],layer_dims[i-1])) * 0.01\n",
    "        parameters['b' + str(i)] = np.random.randn((layer_dims[i],1)) * 0.01\n",
    "    \n",
    "    return parameters"
   ]
  },
  {
   "cell_type": "code",
   "execution_count": null,
   "metadata": {},
   "outputs": [],
   "source": [
    "#Activations and their derivatives\n",
    "def linear(W,x,b):\n",
    "    return np.dot(W,x) + b\n",
    "def sigmoid(z):\n",
    "    return 1/(1+np.exp(-z))\n",
    "\n",
    "def relu(z):\n",
    "    return np.where(z > 0, z, 0)\n",
    "\n",
    "def sigmoid_der(z):\n",
    "    return sigmoid(z)*(1-sigmoid(z))\n",
    "\n",
    "def relu_der(z):\n",
    "    return np.where(z > 0, 1, 0)\n",
    "\n",
    "def softmax(z):\n",
    "    exp_z = np.exp(z - np.max(z,axis=1,keepdims=True))\n",
    "    return exp_z / np.sum(exp_z,axis=1,keepdims=True)"
   ]
  },
  {
   "cell_type": "code",
   "execution_count": 10,
   "metadata": {},
   "outputs": [],
   "source": [
    "#Cost function and derivative\n",
    "def cross_entropy_loss(y_true,y_pred):\n",
    "    n_samples = y_true.shape[0]\n",
    "    y_pred = np.clip(y_pred,1e-12,1-1e-12)\n",
    "    return -np.sum(y_true*np.log(y_pred))/n_samples\n",
    "\n",
    "def cross_entropy_loss_derivative(y_true,y_pred):\n",
    "    return y_pred - y_true"
   ]
  },
  {
   "cell_type": "code",
   "execution_count": null,
   "metadata": {},
   "outputs": [],
   "source": [
    "#Forward propagation single iteration:\n",
    "def forward(A_prev,W,b,activation):\n",
    "    Z = np.dot(W,A_prev) + b\n",
    "\n",
    "    if activation == 'linear':\n",
    "        return Z\n",
    "    elif activation == 'sigmoid':\n",
    "        return sigmoid(Z)\n",
    "    elif activation == 'relu':\n",
    "        return relu(Z)\n",
    "    elif activation == 'softmax':\n",
    "        return softmax(Z)\n",
    "\n",
    "\n",
    "#Forward propagation along all layers once\n",
    "def forward_complete(A,parameters,activations):\n",
    "    for i in range(len(activations)-1):\n",
    "        parameters['A'+str(i)] = forward(A,parameters['W'+str(i+1)],parameters['b'+str(i+1)],activations[i])\n",
    "    \n",
    "    y_pred = parameters['A' + str(len(activations)-1)]\n",
    "    return y_pred,parameters\n",
    "\n"
   ]
  },
  {
   "cell_type": "code",
   "execution_count": null,
   "metadata": {},
   "outputs": [],
   "source": [
    "#Backpropagation code\n"
   ]
  }
 ],
 "metadata": {
  "kernelspec": {
   "display_name": "base",
   "language": "python",
   "name": "python3"
  },
  "language_info": {
   "codemirror_mode": {
    "name": "ipython",
    "version": 3
   },
   "file_extension": ".py",
   "mimetype": "text/x-python",
   "name": "python",
   "nbconvert_exporter": "python",
   "pygments_lexer": "ipython3",
   "version": "3.12.7"
  }
 },
 "nbformat": 4,
 "nbformat_minor": 2
}
