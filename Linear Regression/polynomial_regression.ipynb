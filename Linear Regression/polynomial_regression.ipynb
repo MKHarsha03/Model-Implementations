{
 "cells": [
  {
   "cell_type": "code",
   "execution_count": null,
   "metadata": {},
   "outputs": [],
   "source": [
    "import pandas as pd\n",
    "import numpy as np\n",
    "from sklearn.preprocessing import MinMaxScaler, PolynomialFeatures\n",
    "import seaborn as sns\n",
    "\n"
   ]
  },
  {
   "cell_type": "code",
   "execution_count": 87,
   "metadata": {},
   "outputs": [],
   "source": [
    "# Load the data\n",
    "data = pd.read_csv('polynomial_regression.csv')\n",
    "X = data[['x']]\n",
    "y = data[['y']]\n",
    "\n",
    "# Convert to numpy arrays\n",
    "X = np.array(X)\n",
    "y = np.array(y)\n",
    "\n",
    "# Feature scaling\n",
    "scaler = MinMaxScaler()\n",
    "X_scaled = scaler.fit_transform(X)\n",
    "\n",
    "# Transform the data to include polynomial features\n",
    "degree = 2  # Degree of the polynomial\n",
    "poly = PolynomialFeatures(degree)\n",
    "X_poly = poly.fit_transform(X_scaled)"
   ]
  },
  {
   "cell_type": "code",
   "execution_count": 88,
   "metadata": {},
   "outputs": [],
   "source": [
    "\n",
    "def polynomial_regression(w, X_poly, b):\n",
    "    z = np.dot(X_poly, w) + b\n",
    "    return z\n",
    "\n",
    "def initialize_weights(dim):\n",
    "    w = np.zeros((dim, 1))\n",
    "    b = 0\n",
    "    return w, b\n",
    "\n",
    "def cost_function(y, y_hat):\n",
    "    n = len(y)\n",
    "    loss = np.sum(np.square(y_hat - y))\n",
    "    return loss / n\n",
    "\n",
    "def gradients(y, y_hat, X_poly):\n",
    "    n = len(y)\n",
    "    dw = np.dot(X_poly.T, (y_hat - y)) / n\n",
    "    db = np.sum(y_hat - y) / n\n",
    "    return dw, db"
   ]
  },
  {
   "cell_type": "code",
   "execution_count": 89,
   "metadata": {},
   "outputs": [],
   "source": [
    "def train_loop(X_train, y_train, num_iterations, learning_rate, degree):\n",
    "    costs = []\n",
    "    X_poly_train = PolynomialFeatures(degree).fit_transform(X_train)\n",
    "    w, b = initialize_weights(X_poly_train.shape[1])\n",
    "    for i in range(num_iterations):\n",
    "        y_hat = polynomial_regression(w, X_poly_train, b)\n",
    "        costs.append(cost_function(y_train, y_hat))\n",
    "        dw, db = gradients(y_train, y_hat, X_poly_train)\n",
    "        w -= learning_rate * dw\n",
    "        b -= learning_rate * db\n",
    "    return w, b, costs"
   ]
  },
  {
   "cell_type": "code",
   "execution_count": 90,
   "metadata": {},
   "outputs": [],
   "source": [
    "\n",
    "# Parameters\n",
    "num_iterations = 1000\n",
    "learning_rate = 0.01\n",
    "\n",
    "# Training the model\n",
    "w, b, costs = train_loop(X_scaled, y, num_iterations, learning_rate, degree)\n",
    "\n",
    "# Predictions\n",
    "y_pred = polynomial_regression(w, X_poly, b)"
   ]
  },
  {
   "cell_type": "code",
   "execution_count": null,
   "metadata": {},
   "outputs": [],
   "source": []
  }
 ],
 "metadata": {
  "kernelspec": {
   "display_name": ".venv",
   "language": "python",
   "name": "python3"
  },
  "language_info": {
   "codemirror_mode": {
    "name": "ipython",
    "version": 3
   },
   "file_extension": ".py",
   "mimetype": "text/x-python",
   "name": "python",
   "nbconvert_exporter": "python",
   "pygments_lexer": "ipython3",
   "version": "3.10.11"
  }
 },
 "nbformat": 4,
 "nbformat_minor": 2
}
